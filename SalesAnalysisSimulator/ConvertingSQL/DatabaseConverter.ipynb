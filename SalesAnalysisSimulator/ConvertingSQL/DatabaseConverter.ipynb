{
 "cells": [
  {
   "cell_type": "code",
   "execution_count": 1,
   "id": "7a66f570-93b2-47c5-a615-041733830894",
   "metadata": {},
   "outputs": [],
   "source": [
    "import sqlite3\n",
    "import pandas as pd\n",
    "\n",
    "# step 1. load data file\n",
    "\n",
    "f = pd.read_csv('data.csv')\n",
    "\n",
    "# step 2. data clean up\n",
    "f.columns = df.columns.str.strip()\n",
    "\n",
    "# step 3. create/connect to a SQLite database\n",
    "connection = sqlite3.connect('sales.db')\n",
    "\n",
    "# step 4. load data file to SQLite\n",
    "f.to_sql('\n"
   ]
  },
  {
   "cell_type": "code",
   "execution_count": null,
   "id": "db50ba2e-2101-4ae5-8f3f-a6c6cd01e9ad",
   "metadata": {},
   "outputs": [],
   "source": []
  }
 ],
 "metadata": {
  "kernelspec": {
   "display_name": "Python 3 (ipykernel)",
   "language": "python",
   "name": "python3"
  },
  "language_info": {
   "codemirror_mode": {
    "name": "ipython",
    "version": 3
   },
   "file_extension": ".py",
   "mimetype": "text/x-python",
   "name": "python",
   "nbconvert_exporter": "python",
   "pygments_lexer": "ipython3",
   "version": "3.12.4"
  }
 },
 "nbformat": 4,
 "nbformat_minor": 5
}
